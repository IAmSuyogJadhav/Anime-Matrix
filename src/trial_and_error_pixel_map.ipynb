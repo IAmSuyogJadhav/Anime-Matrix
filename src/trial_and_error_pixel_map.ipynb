{
 "cells": [
  {
   "attachments": {},
   "cell_type": "markdown",
   "metadata": {},
   "source": [
    "# Figuring out the pixel mapping"
   ]
  },
  {
   "cell_type": "code",
   "execution_count": null,
   "metadata": {},
   "outputs": [],
   "source": [
    "from dasbus.connection import SystemMessageBus\n",
    "import numpy as np\n",
    "\n",
    "bus = SystemMessageBus()\n",
    "\n",
    "proxy = bus.get_proxy(\n",
    "    \"org.asuslinux.Daemon\",\n",
    "    \"/org/asuslinux/Anime\"\n",
    ")"
   ]
  },
  {
   "cell_type": "code",
   "execution_count": null,
   "metadata": {},
   "outputs": [],
   "source": [
    "bytes = np.array([0x00 for i in range(0, 1254)])\n",
    "def write(start, end, val=0xff):\n",
    "    \"\"\"Glows all the LEDs between [`start`, `end`) index on the anime matrix (includes start index but not the end index).\"\"\"\n",
    "    # assert end == -1 or start <= end\n",
    "    b = bytes.copy()\n",
    "    b[start:end] = val\n",
    "    print(f'{(len(b[start:end]))} elements changed between {start} and {end}')\n",
    "\n",
    "    # proxy.Write(b)\n",
    "    proxy.Write((b, 0))  # new format"
   ]
  },
  {
   "cell_type": "code",
   "execution_count": null,
   "metadata": {},
   "outputs": [],
   "source": [
    "# Go through each row and establish all the live as well as dummy LEDs in each row.\n",
    "start = 2\n",
    "end = 33\n",
    "\n",
    "write(start, end)"
   ]
  },
  {
   "cell_type": "code",
   "execution_count": null,
   "metadata": {},
   "outputs": [],
   "source": [
    "# The following variables were obtained by trial and error on the previous cell\n",
    "dead_pixels = [\n",
    "    0, 33,  # row 0\n",
    "    67, 68, # row 1\n",
    "    135, 136,\n",
    "    203, \n",
    "    333,\n",
    "    395,\n",
    "    455,\n",
    "    513,\n",
    "    569,\n",
    "    623,\n",
    "    675,\n",
    "    725,\n",
    "    773,\n",
    "    819,\n",
    "    863,\n",
    "    905,\n",
    "    945,\n",
    "    983,\n",
    "    1019,\n",
    "    1053,\n",
    "    1085,\n",
    "    1115,\n",
    "    1143,\n",
    "    1169,\n",
    "    1193,\n",
    "    1215,\n",
    "    1235,\n",
    "    1245,\n",
    "    1246,\n",
    "    1247,\n",
    "    1248,\n",
    "    1249, \n",
    "    1250,\n",
    "    1251,\n",
    "    1252,\n",
    "    1253,\n",
    "    ]\n",
    "row0 = slice(1, 33)\n",
    "row1 = slice(34, 67)\n",
    "row2 = slice(69, 102)\n",
    "row3 = slice(102, 135)\n",
    "row4 = slice(137, 170)\n",
    "row5 = slice(170, 203)\n",
    "row6 = slice(204, 237)\n",
    "row7 = slice(237, 270)\n",
    "row8 = slice(270, 302)\n",
    "row9 = slice(302, 333)\n",
    "row10 = slice(334, 365)\n",
    "row11 = slice(365, 395)\n",
    "row12 = slice(396, 426)\n",
    "row13 = slice(426, 455)\n",
    "row14 = slice(456, 485)\n",
    "row15 = slice(485, 513)\n",
    "row16 = slice(514, 542)\n",
    "row17 = slice(542, 569)\n",
    "row18 = slice(570, 597)\n",
    "row19 = slice(597, 623)\n",
    "row20 = slice(624, 650)\n",
    "row21 = slice(650, 675)\n",
    "row22 = slice(676, 701)\n",
    "row23 = slice(701, 725)\n",
    "row24 = slice(726, 750)\n",
    "row25 = slice(750, 773)\n",
    "row26 = slice(774, 797)\n",
    "row27 = slice(797, 819)\n",
    "row28 = slice(820, 842)\n",
    "row29 = slice(842, 863)\n",
    "row30 = slice(864, 885)\n",
    "row31 = slice(885, 905)\n",
    "row32 = slice(906, 926)\n",
    "row33 = slice(926, 945)\n",
    "row34 = slice(946, 965)\n",
    "row35 = slice(965, 983)\n",
    "row36 = slice(984, 1002)\n",
    "row37 = slice(1002, 1019)\n",
    "row38 = slice(1020, 1037)\n",
    "row39 = slice(1037, 1053)\n",
    "row40 = slice(1054, 1070)\n",
    "row41 = slice(1070, 1085)\n",
    "row42 = slice(1086, 1101)\n",
    "row43 = slice(1101, 1115)\n",
    "row44 = slice(1116, 1130)\n",
    "row45 = slice(1130, 1143)\n",
    "row46 = slice(1144, 1157)\n",
    "row47 = slice(1157, 1169)\n",
    "row48 = slice(1170, 1182)\n",
    "row49 = slice(1182, 1193)\n",
    "row50 = slice(1194, 1205)\n",
    "row51 = slice(1205, 1215)\n",
    "row52 = slice(1216, 1226)\n",
    "row53 = slice(1226, 1235)\n",
    "row54 = slice(1236, 1245)\n",
    "rows = [row0, row1, row2, row3, row4, row5, row6, row7, row8, row9, row10, row11, row12, row13, row14, row15, row16, row17, row18, row19, row20, row21, row22, row23, row24, row25, row26, row27, row28, row29, row30, row31, row32, row33, row34, row35, row36, row37, row38, row39, row40, row41, row42, row43, row44, row45, row46, row47, row48, row49, row50, row51, row52, row53, row54]"
   ]
  },
  {
   "cell_type": "code",
   "execution_count": null,
   "metadata": {},
   "outputs": [],
   "source": [
    "# Sanity check to ensure we covered all the pixels\n",
    "idxs = np.zeros(1254)  # The length of the array needs to be 1254 exactly\n",
    "\n",
    "for row in [row0, row1, row2, row3, row4, row5, row6, row7, row8, row9, row10, row11, row12, row13, row14, row15, row16, row17, row18, row19, row20, row21, row22, row23, row24, row25, row26, row27, row28, row29, row30, row31, row32, row33, row34, row35, row36, row37, row38, row39, row40, row41, row42, row43, row44, row45, row46, row47, row48, row49, row50, row51, row52, row53, row54]:\n",
    "    idxs[row] = 1\n",
    "\n",
    "for dead_pixel in dead_pixels:\n",
    "    assert idxs[dead_pixel] == 0\n",
    "\n",
    "assert sum(idxs) + len(dead_pixels) == 1254\n",
    "assert set(np.arange(len(idxs))[idxs==0]).difference(set(dead_pixels)) == set()"
   ]
  },
  {
   "cell_type": "code",
   "execution_count": null,
   "metadata": {},
   "outputs": [],
   "source": [
    "# Length of all the rows\n",
    "row_lens = [len(range(1254)[row]) for row in [row0, row1, row2, row3, row4, row5, row6, row7, row8, row9, row10, row11, row12, row13, row14, row15, row16, row17, row18, row19, row20, row21, row22, row23, row24, row25, row26, row27, row28, row29, row30, row31, row32, row33, row34, row35, row36, row37, row38, row39, row40, row41, row42, row43, row44, row45, row46, row47, row48, row49, row50, row51, row52, row53, row54]]"
   ]
  },
  {
   "cell_type": "code",
   "execution_count": null,
   "metadata": {},
   "outputs": [],
   "source": [
    "# Handling the 'dead' pixels or the 'dummy' LEDs \n",
    "dead_rows = [0]\n",
    "for i in range(1, len(rows)):\n",
    "    if rows[i-1].stop != rows[i].start:\n",
    "        dead_rows.append((i, rows[i].start))\n",
    "\n",
    "\n",
    "pxls = dead_pixels.copy()\n",
    "dead_indices = [(0, 0), (0, -1)]  # 0th row is special\n",
    "pxls.remove(0)  # Remove the dead pixels associated with the 0th row\n",
    "pxls.remove(33)\n",
    "\n",
    "# Convert dead pixels to their indices on the image\n",
    "for row_num, start_idx in dead_rows[1:]:\n",
    "    dead_pos = [pxls[i] for i in range(len(pxls)) if pxls[i] < start_idx]\n",
    "    dead_indices.append((row_num, len(dead_pos)))\n",
    "    [pxls.remove(item) for item in dead_pos]\n",
    "    # print(row_num, start_idx, dead_pos)  #DEBUG"
   ]
  },
  {
   "cell_type": "code",
   "execution_count": null,
   "metadata": {},
   "outputs": [],
   "source": [
    "# Map the LED locations\n",
    "import matplotlib.pyplot as plt\n",
    "\n",
    "# Making it 56x35 to accomodate all the live, and dummy pixels in the same image. The actual area covered by live LEDs is slightly smaller\n",
    "img = np.zeros((56, 35), dtype=np.uint8) \n",
    "img[0, 2:-1] += 1  # 0th row is special\n",
    "\n",
    "# Actual LEDs\n",
    "for i in range(1, len(row_lens)):\n",
    "    img[i, -row_lens[i]:] += 1\n",
    "\n",
    "# Dead pixels\n",
    "img[0, -1] += 2\n",
    "img[0, -row_lens[0]-2] += 2\n",
    "for row_num, num_dead in dead_indices[2:]:\n",
    "    for i in range(num_dead):\n",
    "        img[row_num, -row_lens[row_num]-i-1] += 2\n",
    "\n",
    "# Extra dead pixels at the very end\n",
    "img[-1, -np.arange(len(pxls)) - 1] += 2\n",
    "\n",
    "# Sanity Checks\n",
    "assert np.sum(img==2) == len(dead_pixels)\n",
    "assert np.sum(img==1) == sum(idxs)\n",
    "assert np.sum(img!=0) == 1254\n",
    "\n",
    "plt.imshow(img)\n"
   ]
  },
  {
   "cell_type": "code",
   "execution_count": null,
   "metadata": {},
   "outputs": [],
   "source": [
    "# Make sure we covered all the pixels and did not overlap any two different types\n",
    "leds_mask = np.zeros((56, 35, 3), dtype=bool)\n",
    "leds_mask[..., 0] = img == 1\n",
    "leds_mask[..., 1] = img == 2\n",
    "leds_mask[..., 2] = img != 0"
   ]
  },
  {
   "attachments": {},
   "cell_type": "markdown",
   "metadata": {},
   "source": [
    "# Save the pixel map"
   ]
  },
  {
   "cell_type": "code",
   "execution_count": null,
   "metadata": {},
   "outputs": [],
   "source": [
    "np.save(\"led_mask_GA402.npy\", leds_mask)"
   ]
  },
  {
   "attachments": {},
   "cell_type": "markdown",
   "metadata": {},
   "source": [
    "# Load the pixel map and test display"
   ]
  },
  {
   "cell_type": "code",
   "execution_count": null,
   "metadata": {},
   "outputs": [],
   "source": [
    "import numpy as np\n",
    "from dasbus.connection import SystemMessageBus\n",
    "import numpy as np\n",
    "import time\n",
    "\n",
    "bus = SystemMessageBus()\n",
    "\n",
    "\n",
    "proxy = bus.get_proxy(\n",
    "    \"org.asuslinux.Daemon\",\n",
    "    \"/org/asuslinux/Anime\"\n",
    ")\n",
    "\n",
    "led_mask = np.load('led_mask_GA401.npy')\n",
    "\n",
    "def image_to_anime(img, led_mask):\n",
    "    # We only need values in these locations\n",
    "    mask_all_leds = led_mask[..., -1]\n",
    "\n",
    "    # Make sure the image is in the right format and shape\n",
    "    assert img.dtype == np.uint8\n",
    "    assert img.shape == mask_all_leds.shape\n",
    "\n",
    "    # Convert to anime-matrix bytes format\n",
    "    anime_bytes = []\n",
    "    for i in range(mask_all_leds.shape[0]):\n",
    "        img_row, mask_row = img[i], mask_all_leds[i]\n",
    "        anime_bytes.extend([img_pixel for img_pixel, mask_pixel in zip(img_row, mask_row) if mask_pixel])\n",
    "\n",
    "    # Write to the display\n",
    "    # proxy.Write(anime_bytes)\n",
    "    # proxy.Write((anime_bytes, 0))  # new format\n",
    "    return anime_bytes"
   ]
  },
  {
   "attachments": {},
   "cell_type": "markdown",
   "metadata": {},
   "source": [
    "### A very hasty test"
   ]
  },
  {
   "cell_type": "code",
   "execution_count": null,
   "metadata": {},
   "outputs": [],
   "source": [
    "# Should make all the LEDs change gradually from black to white\n",
    "img = np.ones((56, 35), dtype=np.uint8)\n",
    "while True:\n",
    "    try:\n",
    "        for i in range(0,255, 50):\n",
    "            time.sleep(0.0001)\n",
    "            # proxy.Write(image_to_anime((img * i).astype(np.uint8), led_mask))\n",
    "            proxy.Write((image_to_anime((img * i).astype(np.uint8), led_mask), 0))  # new format\n",
    "    except KeyboardInterrupt:\n",
    "        break"
   ]
  }
 ],
 "metadata": {
  "kernelspec": {
   "display_name": "Python 3.10.4 64-bit",
   "language": "python",
   "name": "python3"
  },
  "language_info": {
   "codemirror_mode": {
    "name": "ipython",
    "version": 3
   },
   "file_extension": ".py",
   "mimetype": "text/x-python",
   "name": "python",
   "nbconvert_exporter": "python",
   "pygments_lexer": "ipython3",
   "version": "3.10.6"
  },
  "orig_nbformat": 4,
  "vscode": {
   "interpreter": {
    "hash": "916dbcbb3f70747c44a77c7bcd40155683ae19c65e1c03b4aa3499c5328201f1"
   }
  }
 },
 "nbformat": 4,
 "nbformat_minor": 2
}
